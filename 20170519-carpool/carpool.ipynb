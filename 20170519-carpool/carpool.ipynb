{
 "cells": [
  {
   "cell_type": "code",
   "execution_count": 1,
   "metadata": {
    "collapsed": true
   },
   "outputs": [],
   "source": [
    "import numpy as np\n",
    "import pandas as pd"
   ]
  },
  {
   "cell_type": "code",
   "execution_count": 2,
   "metadata": {
    "collapsed": true
   },
   "outputs": [],
   "source": [
    "probs = {'A' : 0.10, \n",
    "         'B' : 0.15, \n",
    "         'C' : 0.20, \n",
    "         'D' : 0.25}"
   ]
  },
  {
   "cell_type": "code",
   "execution_count": 3,
   "metadata": {
    "collapsed": true
   },
   "outputs": [],
   "source": [
    "def runCarPool():\n",
    "    drivers = ['A', 'B', 'C', 'D']\n",
    "    tickets = {'A' : 0, 'B' : 0, 'C' : 0, 'D' : 0}\n",
    "    days = 0\n",
    "    \n",
    "    while True:\n",
    "        # Morning driver\n",
    "        this_driver = np.random.choice(drivers, 1)[0]\n",
    "        ticked = np.random.binomial(1, probs[this_driver], 1)[0]\n",
    "        tickets[this_driver] += ticked\n",
    "        \n",
    "        if tickets[this_driver] >= 3:\n",
    "            drivers.remove(this_driver)\n",
    "            if len(drivers) == 0: return days\n",
    "        \n",
    "        # Evening driver\n",
    "        this_driver = np.random.choice(drivers, 1)[0]\n",
    "        ticked = np.random.binomial(1, probs[this_driver], 1)[0]\n",
    "        tickets[this_driver] += ticked\n",
    "        \n",
    "        if tickets[this_driver] >= 3:\n",
    "            drivers.remove(this_driver)\n",
    "            if len(drivers) == 0: return days\n",
    "            \n",
    "        days += 1"
   ]
  },
  {
   "cell_type": "code",
   "execution_count": 4,
   "metadata": {
    "collapsed": true
   },
   "outputs": [],
   "source": [
    "ITER = int(1e3)\n",
    "days_distn = [0] * ITER\n",
    "for i in range(ITER): days_distn[i] = runCarPool()"
   ]
  },
  {
   "cell_type": "code",
   "execution_count": 5,
   "metadata": {
    "collapsed": false
   },
   "outputs": [
    {
     "data": {
      "text/plain": [
       "count    1000.00000\n",
       "mean       37.92000\n",
       "std        11.05087\n",
       "min        15.00000\n",
       "25%        30.00000\n",
       "50%        37.00000\n",
       "75%        45.00000\n",
       "max        86.00000\n",
       "dtype: float64"
      ]
     },
     "execution_count": 5,
     "metadata": {},
     "output_type": "execute_result"
    }
   ],
   "source": [
    "days_distn = pd.Series(days_distn)\n",
    "days_distn.describe()"
   ]
  }
 ],
 "metadata": {
  "anaconda-cloud": {},
  "kernelspec": {
   "display_name": "Python [default]",
   "language": "python",
   "name": "python3"
  },
  "language_info": {
   "codemirror_mode": {
    "name": "ipython",
    "version": 3
   },
   "file_extension": ".py",
   "mimetype": "text/x-python",
   "name": "python",
   "nbconvert_exporter": "python",
   "pygments_lexer": "ipython3",
   "version": "3.5.2"
  }
 },
 "nbformat": 4,
 "nbformat_minor": 1
}

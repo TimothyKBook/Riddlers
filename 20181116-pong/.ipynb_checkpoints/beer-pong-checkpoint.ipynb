{
 "cells": [
  {
   "cell_type": "code",
   "execution_count": 1,
   "metadata": {},
   "outputs": [],
   "source": [
    "import numpy as np"
   ]
  },
  {
   "cell_type": "code",
   "execution_count": 43,
   "metadata": {},
   "outputs": [],
   "source": [
    "class Cup:\n",
    "    def __init__(self, num):\n",
    "        self.num = num\n",
    "        self.balls = []\n",
    "        \n",
    "    def add_ball(self, ball):\n",
    "        self.balls.append(ball)"
   ]
  },
  {
   "cell_type": "code",
   "execution_count": 95,
   "metadata": {},
   "outputs": [],
   "source": [
    "class CupSet:\n",
    "    def __init__(self, N):\n",
    "        self.N = N\n",
    "        self.cups = [Cup(num=n) for n in range(N)]\n",
    "        \n",
    "    def add_random_ball(self):\n",
    "        rnd_cup = np.random.choice(self.N)\n",
    "        rnd_ball = np.random.choice(self.N)\n",
    "        self.cups[rnd_cup].add_ball(rnd_ball)\n",
    "        \n",
    "    def check_all_full(self):\n",
    "        for cup in self.cups:\n",
    "            if len(cup.balls) == 0:\n",
    "                return False\n",
    "        return True\n",
    "    \n",
    "    def prune_cups(self):\n",
    "        for i, cup in enumerate(self.cups):\n",
    "            self.cups[i].balls = [ball for ball in cup.balls if ball == cup.num]"
   ]
  },
  {
   "cell_type": "code",
   "execution_count": 108,
   "metadata": {},
   "outputs": [],
   "source": [
    "N = 10"
   ]
  },
  {
   "cell_type": "code",
   "execution_count": 110,
   "metadata": {},
   "outputs": [],
   "source": [
    "def simulate_game(N):\n",
    "    cset = CupSet(N)\n",
    "    nrounds = 0\n",
    "    while True:\n",
    "        while True:\n",
    "            cset.add_random_ball()\n",
    "            if cset.check_all_full():\n",
    "                break\n",
    "        cset.prune_cups()\n",
    "        nrounds += 1\n",
    "        if cset.check_all_full():\n",
    "            break\n",
    "    return nrounds"
   ]
  },
  {
   "cell_type": "code",
   "execution_count": null,
   "metadata": {},
   "outputs": [],
   "source": [
    "for i in range(1, 100):\n",
    "    rounds = [simulate_game(i) for _ in range(1000)]"
   ]
  },
  {
   "cell_type": "code",
   "execution_count": 147,
   "metadata": {},
   "outputs": [],
   "source": []
  },
  {
   "cell_type": "code",
   "execution_count": 148,
   "metadata": {},
   "outputs": [
    {
     "data": {
      "text/plain": [
       "19.097"
      ]
     },
     "execution_count": 148,
     "metadata": {},
     "output_type": "execute_result"
    }
   ],
   "source": [
    "np.mean(rounds)"
   ]
  },
  {
   "cell_type": "code",
   "execution_count": 149,
   "metadata": {},
   "outputs": [
    {
     "data": {
      "text/plain": [
       "10.728727370941998"
      ]
     },
     "execution_count": 149,
     "metadata": {},
     "output_type": "execute_result"
    }
   ],
   "source": [
    "np.std(rounds)"
   ]
  },
  {
   "cell_type": "code",
   "execution_count": null,
   "metadata": {},
   "outputs": [],
   "source": []
  }
 ],
 "metadata": {
  "kernelspec": {
   "display_name": "Python 3",
   "language": "python",
   "name": "python3"
  },
  "language_info": {
   "codemirror_mode": {
    "name": "ipython",
    "version": 3
   },
   "file_extension": ".py",
   "mimetype": "text/x-python",
   "name": "python",
   "nbconvert_exporter": "python",
   "pygments_lexer": "ipython3",
   "version": "3.6.6"
  }
 },
 "nbformat": 4,
 "nbformat_minor": 2
}
